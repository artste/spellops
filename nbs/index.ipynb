{
 "cells": [
  {
   "cell_type": "markdown",
   "metadata": {},
   "source": [
    "# spellops\n",
    "\n",
    "> Harness the power of speLL with spellops to write clean and readable pipelines.\n",
    "\n",
    "Welcome to `spellops`, a Python package that extends the capabilities of fastcore’s powerful L class with innovative operators designed to streamline your data transformation workflows. Inspired by the speLL (Single Pipeline L-chain) approach, spellops empowers you to construct fluent, maintainable, and debug-friendly pipelines in a single, readable statement. "
   ]
  },
  {
   "cell_type": "markdown",
   "metadata": {},
   "source": [
    "## Developer Guide"
   ]
  },
  {
   "cell_type": "markdown",
   "metadata": {},
   "source": [
    "Instead of writing this:\n",
    "```python\n",
    "L(f_c(L(...).map(f_a).filter(f_b))).map(f_d)[0]\n",
    "```\n",
    "\n",
    "With `spellops`'s `pipe` operator, you can visually maintain the order of execution (`f_a → filter(f_b) → f_c → f_d`) by writing this:\n",
    "```python\n",
    "L(...).map(f_a).filter(f_b).pipe(f_c).map(f_d)[0]\n",
    "```\n",
    "\n",
    "And with `tee` operator, you can inspect and document your pipeline like this:\n",
    "```python\n",
    "(L(...)             .tee('input data')\n",
    "    .map(f_a)       .tee('apply f_a to individual elements')\n",
    "    .filter(f_b)    .tee('filter by f_b')\n",
    "    .pipe(f_c)      .tee('apply f_c to the whole list')\n",
    "    .map(f_d)[0]    .tee('finally apply f_d to the resulting elements and returning first value')\n",
    ")\n",
    "```\n",
    "\n",
    "And once you're done, you can keep all of this in your production code:\n",
    "```python\n",
    "def process(data,verbose=False):\n",
    "    s = dict(show=verbose)\n",
    "    return (L(data)     .tee('input data', **s)\n",
    "        .map(f_a)       .tee('apply f_a to individual elements', **s)\n",
    "        .filter(f_b)    .tee('filter by f_b', **s)\n",
    "        .pipe(f_c)      .tee('apply f_c to the whole list', **s)\n",
    "        .map(f_d)       .tee('finally apply f_d to the resulting elements and returning first value', **s)\n",
    "        .unwrap()       # Extract the element out of the list\n",
    "    )\n",
    "```"
   ]
  },
  {
   "cell_type": "markdown",
   "metadata": {},
   "source": [
    "Here are some examples:"
   ]
  },
  {
   "cell_type": "markdown",
   "metadata": {},
   "source": [
    "## Import `L` and `spellops`\n",
    "\n",
    "NOTE: order of import does not matters."
   ]
  },
  {
   "cell_type": "code",
   "execution_count": null,
   "metadata": {},
   "outputs": [],
   "source": [
    "import spellops\n",
    "from fastcore.foundation import L"
   ]
  },
  {
   "cell_type": "markdown",
   "metadata": {},
   "source": [
    "### Fluent string manipulaiton"
   ]
  },
  {
   "cell_type": "code",
   "execution_count": null,
   "metadata": {},
   "outputs": [
    {
     "data": {
      "text/plain": [
       "'A->B->C'"
      ]
     },
     "execution_count": null,
     "metadata": {},
     "output_type": "execute_result"
    }
   ],
   "source": [
    "L(['a', 'b', 'c']).map(str.upper).pipe('->'.join, wrap=False)"
   ]
  },
  {
   "cell_type": "markdown",
   "metadata": {},
   "source": [
    "Or using convenience mehtod `pipen` that stands for `pipe` with `wrap=False` (no `wrap`):"
   ]
  },
  {
   "cell_type": "code",
   "execution_count": null,
   "metadata": {},
   "outputs": [
    {
     "data": {
      "text/plain": [
       "'A->B->C'"
      ]
     },
     "execution_count": null,
     "metadata": {},
     "output_type": "execute_result"
    }
   ],
   "source": [
    "L(['a', 'b', 'c']).map(str.upper).pipen('->'.join)"
   ]
  },
  {
   "cell_type": "markdown",
   "metadata": {},
   "source": [
    "### Count how many elements are present in both sublists\n"
   ]
  },
  {
   "cell_type": "code",
   "execution_count": null,
   "metadata": {},
   "outputs": [
    {
     "name": "stdout",
     "output_type": "stream",
     "text": [
      "input\n",
      "[[1, 2, 3, 2], [2, 4, 1]]\n",
      "to set\n",
      "[{1, 2, 3}, {1, 2, 4}]\n",
      "common elements\n",
      "[1, 2]\n",
      "count elements\n",
      "[2]\n"
     ]
    },
    {
     "data": {
      "text/plain": [
       "2"
      ]
     },
     "execution_count": null,
     "metadata": {},
     "output_type": "execute_result"
    }
   ],
   "source": [
    "(L([[1,2,3,2],[2,4,1]])    .tee('input')\n",
    "     .map(set)             .tee('to set')\n",
    "     .starpipe(set.intersection)  .tee('common elements')\n",
    "     .pipe(len)            .tee('count elements')\n",
    "     .unwrap()\n",
    ")"
   ]
  },
  {
   "cell_type": "markdown",
   "metadata": {},
   "source": [
    "An alternative approach can be to pipe with `wrap=False`:\n",
    "\n",
    "**NOTE:** In this case, you can't use `tee` after the final `pipe` operator because it no longer returns an `L` instance."
   ]
  },
  {
   "cell_type": "code",
   "execution_count": null,
   "metadata": {},
   "outputs": [
    {
     "name": "stdout",
     "output_type": "stream",
     "text": [
      "input\n",
      "[[1, 2, 3, 2], [2, 4, 1]]\n",
      "to set\n",
      "[{1, 2, 3}, {1, 2, 4}]\n",
      "common elements\n",
      "[1, 2]\n"
     ]
    },
    {
     "data": {
      "text/plain": [
       "2"
      ]
     },
     "execution_count": null,
     "metadata": {},
     "output_type": "execute_result"
    }
   ],
   "source": [
    "(L([[1,2,3,2],[2,4,1]])    .tee('input')\n",
    "     .map(set)             .tee('to set')\n",
    "     .starpipe(set.intersection)  .tee('common elements')\n",
    "     .pipe(len, wrap=False) # count elements\n",
    ")"
   ]
  },
  {
   "cell_type": "markdown",
   "metadata": {},
   "source": [
    "### Solve an AoC task\n",
    "**SPOILER ALERT**: the following is a `speLL` to solve AoC 2024 part B.\n",
    "\n",
    "**GOAL**: For each number in the left list, we need to count how many times it appears in the right list, multiply these together, and sum all results. This creates a \"similarity score\", counting occurrences and multiplying, that measures how frequently numbers from the left list appear in the right list."
   ]
  },
  {
   "cell_type": "code",
   "execution_count": null,
   "metadata": {},
   "outputs": [
    {
     "name": "stdout",
     "output_type": "stream",
     "text": [
      "input data\n",
      "[['3', '4'], ['4', '3'], ['2', '5'], ['1', '3'], ['3', '9'], ['3', '3']]\n",
      "int to tuples\n",
      "[(3, 4), (4, 3), (2, 5), (1, 3), (3, 9), (3, 3)]\n",
      "tuple of lists\n",
      "[(3, 4, 2, 1, 3, 3), (4, 3, 5, 3, 9, 3)]\n",
      "apply count_instances to the \"whole list\"\n",
      "[(3, 3), (4, 1), (2, 0), (1, 0), (3, 3), (3, 3)]\n",
      "multiply tuple elements\n",
      "[9, 4, 0, 0, 9, 9]\n"
     ]
    },
    {
     "data": {
      "text/plain": [
       "31"
      ]
     },
     "execution_count": null,
     "metadata": {},
     "output_type": "execute_result"
    }
   ],
   "source": [
    "sample = '''3   4\n",
    "4   3\n",
    "2   5\n",
    "1   3\n",
    "3   9\n",
    "3   3\n",
    "'''\n",
    "\n",
    "# This function will be \"mapped\" to individual elements\n",
    "def to_int_tuple(a,b): return (int(a),int(b))\n",
    "\n",
    "# this function acts on the whole list\n",
    "def count_instances(As,Bs): return [(o,len([t for t in Bs if t==o])) for  o in As]\n",
    "\n",
    "from math import prod\n",
    "(L(sample.splitlines())\n",
    "                .map(str.split)         .tee('input data')\n",
    "                .starmap(to_int_tuple)  .tee('int to tuples')\n",
    "                .zip(cycled=True)       .tee('tuple of lists')\n",
    "                .starpipe(count_instances)  .tee('apply count_instances to the \"whole list\"')\n",
    "                .map(prod)              .tee('multiply tuple elements')\n",
    "                .sum()\n",
    "    )"
   ]
  },
  {
   "cell_type": "markdown",
   "metadata": {},
   "source": [
    "### Visually inspect images transformations:"
   ]
  },
  {
   "cell_type": "code",
   "execution_count": null,
   "metadata": {},
   "outputs": [
    {
     "data": {
      "text/plain": [
       "(#2) [array([[0, 1, 0],\n",
       "       [0, 1, 0],\n",
       "       [0, 1, 0]]),array([[0, 0, 1],\n",
       "       [0, 1, 0],\n",
       "       [1, 0, 0]])]"
      ]
     },
     "execution_count": null,
     "metadata": {},
     "output_type": "execute_result"
    },
    {
     "data": {
      "image/png": "[encoded data removed]",
      "text/plain": [
       "<Figure size 800x400 with 2 Axes>"
      ]
     },
     "metadata": {},
     "output_type": "display_data"
    },
    {
     "data": {
      "image/png": "[encoded data removed]",
      "text/plain": [
       "<Figure size 800x400 with 2 Axes>"
      ]
     },
     "metadata": {},
     "output_type": "display_data"
    }
   ],
   "source": [
    "import matplotlib.pyplot as plt\n",
    "import numpy as np\n",
    "\n",
    "def plot_images(x:L, msg):\n",
    "    N = len(x)\n",
    "    plt.figure(figsize=(4*N,4))\n",
    "    for i,o in enumerate(x):\n",
    "        plt.subplot(1,N,i+1)\n",
    "        plt.imshow(o)\n",
    "        plt.title(f'Image: {i}')\n",
    "    plt.suptitle(msg)\n",
    "\n",
    "(L([[[0,0,0],[1,1,1],[0,0,0]],[[1,0,0],[0,1,0],[0,0,1]]])  .tee('Input images',f=plot_images)\n",
    "    .map(lambda x: np.rot90(x,k=1)) .tee('Rotate 90 degree',f=plot_images)\n",
    ")"
   ]
  },
  {
   "cell_type": "markdown",
   "metadata": {},
   "source": [
    "### Install spellops in Development mode"
   ]
  },
  {
   "cell_type": "markdown",
   "metadata": {},
   "source": [
    "```sh\n",
    "# make sure spellops package is installed in development mode\n",
    "$ pip install -e .\n",
    "\n",
    "# make changes under nbs/ directory\n",
    "# ...\n",
    "\n",
    "# compile to have changes apply to spellops\n",
    "$ nbdev_prepare\n",
    "```"
   ]
  },
  {
   "cell_type": "markdown",
   "metadata": {},
   "source": [
    "## Usage"
   ]
  },
  {
   "cell_type": "markdown",
   "metadata": {},
   "source": [
    "### Installation"
   ]
  },
  {
   "cell_type": "markdown",
   "metadata": {},
   "source": [
    "Install latest from the GitHub [repository][repo]:\n",
    "\n",
    "```sh\n",
    "$ pip install git+https://github.com/artste/spellops.git\n",
    "```\n",
    "\n",
    "or from [pypi][pypi]\n",
    "\n",
    "\n",
    "```sh\n",
    "$ pip install spellops\n",
    "```\n",
    "\n",
    "\n",
    "[repo]: https://github.com/artste/spellops\n",
    "[docs]: https://artste.github.io/spellops/\n",
    "[pypi]: https://pypi.org/project/spellops/"
   ]
  }
 ],
 "metadata": {
  "kernelspec": {
   "display_name": "python3",
   "language": "python",
   "name": "python3"
  }
 },
 "nbformat": 4,
 "nbformat_minor": 4
}
