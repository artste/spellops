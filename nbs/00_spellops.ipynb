{
 "cells": [
  {
   "cell_type": "markdown",
   "metadata": {},
   "source": [
    "# spellops\n",
    "\n",
    "This section describes the `speLL` operators.\n",
    "\n",
    "NOTE: we use default_exp __init__ in order to enable this as soon as you import the module."
   ]
  },
  {
   "cell_type": "code",
   "execution_count": null,
   "metadata": {},
   "outputs": [],
   "source": [
    "#| default_exp __init__"
   ]
  },
  {
   "cell_type": "code",
   "execution_count": null,
   "metadata": {},
   "outputs": [],
   "source": [
    "#| hide\n",
    "from nbdev.showdoc import *\n",
    "from fastcore.test import test_eq, test_fail, test_eq_type\n",
    "import testcell"
   ]
  },
  {
   "cell_type": "code",
   "execution_count": null,
   "metadata": {},
   "outputs": [],
   "source": [
    "#| export\n",
    "# spellops: a new set of fastcore L operators for creating speLL\n",
    "from fastcore.foundation import L,patch"
   ]
  },
  {
   "cell_type": "markdown",
   "metadata": {},
   "source": [
    "## Testing utilities"
   ]
  },
  {
   "cell_type": "code",
   "execution_count": null,
   "metadata": {},
   "outputs": [],
   "source": [
    "import io\n",
    "from contextlib import redirect_stdout\n",
    "\n",
    "def test_eq_stdout(f, expected):\n",
    "    \"\"\"\n",
    "    Test if the output of function `f` matches the expected string.\n",
    "    \n",
    "    Args:\n",
    "        f (callable): A parameterless function that prints to stdout.\n",
    "        expected (str): The expected printed output.\n",
    "    \n",
    "    Raises:\n",
    "        AssertionError: If the output does not match the expected string.\n",
    "    \"\"\"\n",
    "    buffer = io.StringIO()\n",
    "    with redirect_stdout(buffer):f()\n",
    "    output = buffer.getvalue().strip()\n",
    "    test_eq(output,expected)"
   ]
  },
  {
   "cell_type": "code",
   "execution_count": null,
   "metadata": {},
   "outputs": [],
   "source": [
    "%%testcell\n",
    "from fastcore.test import test_fail\n",
    "\n",
    "def my_function(): print(\"Hello, world!\")\n",
    "\n",
    "# Successful test\n",
    "test_eq_stdout(my_function, \"Hello, world!\")\n",
    "\n",
    "# Failing test\n",
    "test_fail(lambda: test_eq_stdout(my_function, \"Hello, world ?\"))"
   ]
  },
  {
   "cell_type": "markdown",
   "metadata": {},
   "source": [
    "## `tee` operator\n",
    "`tee` is a debugging and documentation tool that prints the current state of data transformation while allowing the chain to continue. Like its Unix namesake, it lets you \"peek\" at data flowing through a pipeline without interrupting it.\n",
    "\n",
    "Sample use cases:\n",
    "1. Debug Data Transformations\n",
    "2. Document Pipeline Steps\n",
    "3. Custom Visualization\n",
    "4. Development/Teaching"
   ]
  },
  {
   "cell_type": "code",
   "execution_count": null,
   "metadata": {},
   "outputs": [],
   "source": [
    "#| export\n",
    "def _default_print(x, msg=None, sep='\\n', **kwargs): print(f\"{msg+sep if msg else ''}{x}\")\n",
    "@patch\n",
    "def tee(self:L, msg=None, f=_default_print, show=True, **kwargs): \n",
    "    if show: f(self, **kwargs) if msg is None else f(self, msg, **kwargs)\n",
    "    return self"
   ]
  },
  {
   "cell_type": "code",
   "execution_count": null,
   "metadata": {},
   "outputs": [],
   "source": [
    "%%testcell\n",
    "# Unit tests\n",
    "\n",
    "# Default tests\n",
    "test_eq_stdout(lambda:  L([1,2,3]).tee(),  \"[1, 2, 3]\")\n",
    "test_eq_stdout(lambda:  L([1,2,3]).tee('values'),  \"values\\n[1, 2, 3]\")\n",
    "test_eq_stdout(lambda:  L([1,2,3]).tee('values', sep=':'),  \"values:[1, 2, 3]\")\n",
    "\n",
    "# Advanced print\n",
    "def my_print(x,msg,symbol): print(f'{symbol} {msg} : {x}')\n",
    "test_eq_stdout(lambda:  L([1,2,3]).tee('values', f=my_print, symbol='!'),  \"! values : [1, 2, 3]\")"
   ]
  },
  {
   "cell_type": "code",
   "execution_count": null,
   "metadata": {},
   "outputs": [
    {
     "name": "stdout",
     "output_type": "stream",
     "text": [
      "After converting to float\n",
      "[1.2, 3.4, -2.1]\n",
      "After taking absolute values\n",
      "[1.2, 3.4, 2.1]\n"
     ]
    },
    {
     "data": {
      "text/plain": [
       "(#3) [1.2,3.4,2.1]"
      ]
     },
     "execution_count": null,
     "metadata": {},
     "output_type": "execute_result"
    }
   ],
   "source": [
    "# 1. Debug Data Transformations\n",
    "(L(['1.2', '3.4', '-2.1'])\n",
    "    .map(float).tee('After converting to float')\n",
    "    .map(abs).tee('After taking absolute values'))"
   ]
  },
  {
   "cell_type": "code",
   "execution_count": null,
   "metadata": {},
   "outputs": [
    {
     "name": "stdout",
     "output_type": "stream",
     "text": [
      "Converted to int or None\n",
      "['12', None, '23', '0', None]\n",
      "Filtered out non-numbers\n",
      "['12', '23', '0']\n"
     ]
    },
    {
     "data": {
      "text/plain": [
       "(#3) ['12','23','0']"
      ]
     },
     "execution_count": null,
     "metadata": {},
     "output_type": "execute_result"
    }
   ],
   "source": [
    "# 2. Document Pipeline Steps\n",
    "(L(['12', 'abc', '23', '0', 'x'])\n",
    "    .map(lambda x: x if x.isdigit() else None).tee('Converted to int or None')\n",
    "    .filter(lambda x: x is not None).tee('Filtered out non-numbers'))"
   ]
  },
  {
   "cell_type": "code",
   "execution_count": null,
   "metadata": {},
   "outputs": [
    {
     "name": "stdout",
     "output_type": "stream",
     "text": [
      "🔍 Doubled values: ['item_0:2', 'item_1:4', 'item_2:6', 'item_3:8']\n"
     ]
    },
    {
     "data": {
      "text/plain": [
       "(#4) [2,4,6,8]"
      ]
     },
     "execution_count": null,
     "metadata": {},
     "output_type": "execute_result"
    }
   ],
   "source": [
    "# 3. Custom Visualization (using emoji for fun)\n",
    "custom_print = lambda x, msg: print(f\"🔍 {msg}: {[f'item_{i}:{v}' for i,v in enumerate(x)]}\")\n",
    "(L([1, 2, 3, 4])\n",
    "    .map(lambda x: x*2).tee('Doubled values', f=custom_print))"
   ]
  },
  {
   "cell_type": "code",
   "execution_count": null,
   "metadata": {},
   "outputs": [
    {
     "name": "stdout",
     "output_type": "stream",
     "text": [
      "Starting with dictionaries\n",
      "[{'a': 1}, {'a': 2}, {'a': 3}]\n",
      "Extracted \"a\" values\n",
      "[1, 2, 3]\n",
      "Added 10 to each value\n",
      "[11, 12, 13]\n"
     ]
    },
    {
     "data": {
      "text/plain": [
       "(#3) [11,12,13]"
      ]
     },
     "execution_count": null,
     "metadata": {},
     "output_type": "execute_result"
    }
   ],
   "source": [
    "# 4. Development/Teaching\n",
    "(L([{'a':1}, {'a':2}, {'a':3}])\n",
    "    .tee('Starting with dictionaries')\n",
    "    .map(lambda d: d['a']).tee('Extracted \"a\" values')\n",
    "    .map(lambda x: x+10).tee('Added 10 to each value'))"
   ]
  },
  {
   "cell_type": "markdown",
   "metadata": {},
   "source": [
    "With `tee` you can inspect the state of your pipeline with arbitrary complex functions:"
   ]
  },
  {
   "cell_type": "code",
   "execution_count": null,
   "metadata": {},
   "outputs": [
    {
     "name": "stdout",
     "output_type": "stream",
     "text": [
      "Input images\n",
      "000  100\n",
      "111  010\n",
      "000  001\n",
      "Rotate 90 degree\n",
      "010  001\n",
      "010  010\n",
      "010  100\n",
      "Take first row\n",
      "[[0, 1, 0], [0, 0, 1]]\n",
      "Sum element in list\n",
      "[1, 1]\n"
     ]
    },
    {
     "data": {
      "text/plain": [
       "2"
      ]
     },
     "execution_count": null,
     "metadata": {},
     "output_type": "execute_result"
    }
   ],
   "source": [
    "%%testcell\n",
    "import numpy as np\n",
    "\n",
    "def print_as_matrix(x:L, msg):\n",
    "    print(msg)\n",
    "    N = len(x)\n",
    "    rows = len(x[0])\n",
    "    for r in range(rows):\n",
    "        row_str = (L([o[r] for o in x]).map(lambda o: ''.join(map(str,o))))\n",
    "        row_str = '  '.join(row_str)\n",
    "        print(row_str)\n",
    "\n",
    "# Sums all the values of the first row of all matrices after rotating them of 90 degree\n",
    "(L([[[0,0,0],[1,1,1],[0,0,0]],[[1,0,0],[0,1,0],[0,0,1]]])   .tee('Input images',f=print_as_matrix)\n",
    "    .map(lambda x: np.rot90(x,k=1))     .tee('Rotate 90 degree',f=print_as_matrix)\n",
    "    .map(lambda x: x[0].tolist())       .tee('Take first row')\n",
    "    .map(sum)                           .tee('Sum element in list')\n",
    "    .sum()\n",
    ")"
   ]
  },
  {
   "cell_type": "markdown",
   "metadata": {},
   "source": [
    "`tee` supports even rich \"inspection\" with external libraries such as `matplotlib`."
   ]
  },
  {
   "cell_type": "code",
   "execution_count": null,
   "metadata": {},
   "outputs": [
    {
     "data": {
      "text/plain": [
       "(#2) [array([[0, 1, 0],\n",
       "       [0, 1, 0],\n",
       "       [0, 1, 0]]),array([[0, 0, 1],\n",
       "       [0, 1, 0],\n",
       "       [1, 0, 0]])]"
      ]
     },
     "execution_count": null,
     "metadata": {},
     "output_type": "execute_result"
    },
    {
     "data": {
      "image/png": "[encoded data removed]",
      "text/plain": [
       "<Figure size 800x400 with 2 Axes>"
      ]
     },
     "metadata": {},
     "output_type": "display_data"
    },
    {
     "data": {
      "image/png": "[encoded data removed]",
      "text/plain": [
       "<Figure size 800x400 with 2 Axes>"
      ]
     },
     "metadata": {},
     "output_type": "display_data"
    }
   ],
   "source": [
    "%%testcell\n",
    "# Advance tee\n",
    "import matplotlib.pyplot as plt\n",
    "import numpy as np\n",
    "\n",
    "def plot_images(x:L, msg):\n",
    "    N = len(x)\n",
    "    plt.figure(figsize=(4*N,4))\n",
    "    for i,o in enumerate(x):\n",
    "        plt.subplot(1,N,i+1)\n",
    "        plt.imshow(o)\n",
    "        plt.title(f'IMG: {i}')\n",
    "    plt.suptitle(msg)\n",
    "\n",
    "(L([[[0,0,0],[1,1,1],[0,0,0]],[[1,0,0],[0,1,0],[0,0,1]]])  .tee('Input images',f=plot_images)\n",
    "    .map(lambda x: np.rot90(x,k=1)) .tee('Rotate 90 degree',f=plot_images)\n",
    ")"
   ]
  },
  {
   "cell_type": "markdown",
   "metadata": {},
   "source": [
    "## `pipe` operator\n",
    "`pipe` applies a function to the entire L collection, rather than to individual elements (like `map` does). With `wrap=True` (default) it returns an L for chaining, with `wrap=False` it returns the raw result.\n",
    "\n",
    "**NOTE:** `pipen(f)` is an alias to `pipe(f,wrap=False)`"
   ]
  },
  {
   "cell_type": "code",
   "execution_count": null,
   "metadata": {},
   "outputs": [],
   "source": [
    "#| export\n",
    "@patch\n",
    "def pipe(self:L, f, wrap=True): return self._new(f(self)) if wrap else f(self)\n",
    "@patch\n",
    "def starpipe(self:L, f, wrap=True): return self._new(f(*self)) if wrap else f(*self)"
   ]
  },
  {
   "cell_type": "code",
   "execution_count": null,
   "metadata": {},
   "outputs": [],
   "source": [
    "%%testcell\n",
    "test_eq(L([1,2,3]).pipe(len),L(3))\n",
    "test_eq(L([1,2,3]).pipe(len, wrap=False),3)\n",
    "test_eq(L([1,3]).starpipe(lambda a,b: a+b),L(4))\n",
    "test_eq(L([1,3]).starpipe(lambda a,b: a+b, wrap=False),4)"
   ]
  },
  {
   "cell_type": "code",
   "execution_count": null,
   "metadata": {},
   "outputs": [],
   "source": [
    "#| export\n",
    "@patch\n",
    "def pipen(self:L, f): return self.pipe(f=f,wrap=False)\n",
    "@patch\n",
    "def starpipen(self:L, f): return self.starpipe(f=f,wrap=False)"
   ]
  },
  {
   "cell_type": "code",
   "execution_count": null,
   "metadata": {},
   "outputs": [],
   "source": [
    "%%testcell\n",
    "test_eq(L([1,2,3]).pipen(len),3)\n",
    "test_eq(L([1,3]).starpipen(lambda a,b: a+b),4)"
   ]
  },
  {
   "cell_type": "code",
   "execution_count": null,
   "metadata": {},
   "outputs": [
    {
     "data": {
      "text/plain": [
       "2"
      ]
     },
     "execution_count": null,
     "metadata": {},
     "output_type": "execute_result"
    }
   ],
   "source": [
    "%%testcell\n",
    "# Count how many elements of a reference set are present in a L\n",
    "L([1,2,3,2]).pipe(lambda x: set(x).intersection({1,3,5})).pipe(len,wrap=False)"
   ]
  },
  {
   "cell_type": "code",
   "execution_count": null,
   "metadata": {},
   "outputs": [
    {
     "data": {
      "text/plain": [
       "'a->b->c'"
      ]
     },
     "execution_count": null,
     "metadata": {},
     "output_type": "execute_result"
    }
   ],
   "source": [
    "L(['a', 'b', 'c']).pipe('->'.join, wrap=False)"
   ]
  },
  {
   "cell_type": "code",
   "execution_count": null,
   "metadata": {},
   "outputs": [
    {
     "data": {
      "text/plain": [
       "'a->b->c'"
      ]
     },
     "execution_count": null,
     "metadata": {},
     "output_type": "execute_result"
    }
   ],
   "source": [
    "# Using the convenience `pipen`\n",
    "L(['a', 'b', 'c']).pipen('->'.join)"
   ]
  },
  {
   "cell_type": "markdown",
   "metadata": {},
   "source": [
    "You can solve this line by line and have it documented step by step:"
   ]
  },
  {
   "cell_type": "code",
   "execution_count": null,
   "metadata": {},
   "outputs": [
    {
     "name": "stdout",
     "output_type": "stream",
     "text": [
      "input\n",
      "[[1, 2, 3, 2], [2, 4, 1]]\n",
      "to set\n",
      "[{1, 2, 3}, {1, 2, 4}]\n",
      "common elements\n",
      "[1, 2]\n"
     ]
    },
    {
     "data": {
      "text/plain": [
       "2"
      ]
     },
     "execution_count": null,
     "metadata": {},
     "output_type": "execute_result"
    }
   ],
   "source": [
    "%%testcell\n",
    "# Count how many elements are present in both sublists using a function with two parameters\n",
    "(L([[1,2,3,2],[2,4,1]])    .tee('input')\n",
    "     .map(set)             .tee('to set')\n",
    "     .starpipe(set.intersection)  .tee('common elements')\n",
    "     .pipe(len, wrap=False)\n",
    ")"
   ]
  },
  {
   "cell_type": "markdown",
   "metadata": {},
   "source": [
    "Or you can abstract part of the computation away and have it delegated to a custom function:"
   ]
  },
  {
   "cell_type": "code",
   "execution_count": null,
   "metadata": {},
   "outputs": [
    {
     "data": {
      "text/plain": [
       "2"
      ]
     },
     "execution_count": null,
     "metadata": {},
     "output_type": "execute_result"
    }
   ],
   "source": [
    "%%testcell\n",
    "# Count how many elements are present in both sublists using a function with two parameters\n",
    "def count_intersection(a,b): return len(set(a)&set(b))\n",
    "L([[1,2,3,2],[2,4,1]]).starpipe(count_intersection,wrap=False)"
   ]
  },
  {
   "cell_type": "markdown",
   "metadata": {},
   "source": [
    "## `unwrap` operator\n",
    "`unwrap` safely extracts a single value from an L collection, returning None for empty lists and raising an error if there are multiple elements. It's designed to safely terminate L-chains when you expect exactly one result."
   ]
  },
  {
   "cell_type": "code",
   "execution_count": null,
   "metadata": {},
   "outputs": [],
   "source": [
    "#| export\n",
    "@patch\n",
    "def unwrap(self:L): \n",
    "    if len(self)==0: return None # nothing to return \n",
    "    if len(self)!=1: raise ValueError(\"Can't unwrap list with more than one element\")\n",
    "    return self[0]"
   ]
  },
  {
   "cell_type": "code",
   "execution_count": null,
   "metadata": {},
   "outputs": [],
   "source": [
    "%%testcell\n",
    "test_eq(L([1]).unwrap(),1)\n",
    "test_eq(L([]).unwrap(),None)\n",
    "test_fail(lambda: L([1,2]).unwrap())"
   ]
  },
  {
   "cell_type": "code",
   "execution_count": null,
   "metadata": {},
   "outputs": [
    {
     "name": "stdout",
     "output_type": "stream",
     "text": [
      "input\n",
      "[[1, 2, 3, 2], [2, 4, 1]]\n",
      "to set\n",
      "[{1, 2, 3}, {1, 2, 4}]\n",
      "common elements\n",
      "[1, 2]\n",
      "count elements\n",
      "[2]\n"
     ]
    },
    {
     "data": {
      "text/plain": [
       "2"
      ]
     },
     "execution_count": null,
     "metadata": {},
     "output_type": "execute_result"
    }
   ],
   "source": [
    "%%testcell\n",
    "# Count how many elements are present in both sublists\n",
    "(L([[1,2,3,2],[2,4,1]])    .tee('input')\n",
    "     .map(set)             .tee('to set')\n",
    "     .starpipe(set.intersection)  .tee('common elements')\n",
    "     .pipe(len)            .tee('count elements')\n",
    "     .unwrap()\n",
    ")"
   ]
  },
  {
   "cell_type": "code",
   "execution_count": null,
   "metadata": {},
   "outputs": [],
   "source": [
    "#| hide\n",
    "import nbdev; nbdev.nbdev_export()"
   ]
  }
 ],
 "metadata": {
  "kernelspec": {
   "display_name": "python3",
   "language": "python",
   "name": "python3"
  }
 },
 "nbformat": 4,
 "nbformat_minor": 4
}
